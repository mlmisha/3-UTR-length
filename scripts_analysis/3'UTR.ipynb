{
 "cells": [
  {
   "cell_type": "markdown",
   "metadata": {},
   "source": [
    "3'UTR Python calculations\n"
   ]
  },
  {
   "cell_type": "code",
   "execution_count": null,
   "metadata": {},
   "outputs": [],
   "source": [
    "def genes_extractor(path):\n",
    "    all_genes = {}\n",
    "    with open(path, mode = \"r\") as data:\n",
    "        line  = data.readline().strip()\n",
    "        line = data.readline().strip()\n",
    "        while line !=\"\":\n",
    "            line = line.split(\"\\t\")\n",
    "            genes = line[12].split(\"/\")\n",
    "            for i in genes:\n",
    "                if not i in all_genes:\n",
    "                    all_genes[i] = \"\"\n",
    "            line = data.readline().strip()\n",
    "    result = list(all_genes.keys())\n",
    "    return result"
   ]
  },
  {
   "cell_type": "code",
   "execution_count": null,
   "metadata": {},
   "outputs": [],
   "source": [
    "genes = genes_extractor(\"../data/ComRES/GO_ORA_cytoplasmic_translation.tsv\")\n",
    "with open(\"../data/transl_genes.txt\", mode = \"w\") as out:\n",
    "    print(*genes, sep = \"\\n\", end = \"\", file = out)"
   ]
  },
  {
   "cell_type": "code",
   "execution_count": null,
   "metadata": {},
   "outputs": [],
   "source": [
    "import scipy.stats\n",
    "from statsmodels.stats.multitest import fdrcorrection\n",
    "\n",
    "\n",
    "def codon_medians (pandas_input):\n",
    "    uga = pandas_input[pandas_input[\"Codon\"] == \"TGA\"][\"Length\"].tolist()\n",
    "    uaa = pandas_input[pandas_input[\"Codon\"] == \"TAA\"][\"Length\"].tolist()\n",
    "    uag = pandas_input[pandas_input[\"Codon\"] == \"TAG\"][\"Length\"].tolist()   \n",
    "    \n",
    "    uaa_uga = scipy.stats.median_test(uaa, uga).pvalue\n",
    "    uaa_uag = scipy.stats.median_test(uaa, uag).pvalue\n",
    "    uag_uga = scipy.stats.median_test(uag, uga).pvalue\n",
    "    all_tog = scipy.stats.median_test(uag, uga,uaa).pvalue\n",
    "\n",
    "    print(f\"UAA-UAG = {uaa_uag}\")\n",
    "    print(f\"UAA-UGA = {uaa_uga}\")\n",
    "    print(f\"UAG-UGA = {uag_uga}\")\n",
    "    print(fdrcorrection([uaa_uag, uaa_uga, uag_uga]))\n",
    "\n",
    "    return None "
   ]
  },
  {
   "cell_type": "code",
   "execution_count": null,
   "metadata": {},
   "outputs": [],
   "source": [
    "hum_gc = pd.read_csv(\"../data/GENCODE.tsv\", sep = \"\\t\", names = [\"Transcript_ID\", \"Codon\", \"Length\"])\n",
    "hum_mane = pd.read_csv(\"../data/MANE.tsv\", sep = \"\\t\")\n",
    "codon_medians(hum_gc)\n",
    "codon_medians(hum_mane)"
   ]
  }
 ],
 "metadata": {
  "language_info": {
   "name": "python"
  }
 },
 "nbformat": 4,
 "nbformat_minor": 2
}

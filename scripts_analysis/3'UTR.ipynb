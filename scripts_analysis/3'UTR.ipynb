{
 "cells": [
  {
   "cell_type": "markdown",
   "metadata": {},
   "source": [
    "3'UTR Python calculations\n"
   ]
  },
  {
   "cell_type": "code",
   "execution_count": null,
   "metadata": {},
   "outputs": [],
   "source": [
    "from os import listdir\n",
    "from os.path import isfile, join\n",
    "import pandas as pd\n",
    "import scipy.stats\n",
    "from statsmodels.stats.multitest import fdrcorrection\n"
   ]
  },
  {
   "cell_type": "markdown",
   "metadata": {},
   "source": [
    "Function to obtain list of genes (SYMBOL names) from the results of enrichment analysis. "
   ]
  },
  {
   "cell_type": "code",
   "execution_count": null,
   "metadata": {},
   "outputs": [],
   "source": [
    "def genes_extractor(path):\n",
    "    all_genes = {}\n",
    "    with open(path, mode = \"r\") as data:\n",
    "        line = data.readline().strip()\n",
    "        while line !=\"\":\n",
    "            print(line)\n",
    "            line = line.split(\"\\t\")\n",
    "            print(line)\n",
    "            genes = line[8].split(\"/\")\n",
    "            print(genes)\n",
    "            for i in genes:\n",
    "                if not i in all_genes:\n",
    "                    all_genes[i] = \"\"\n",
    "            line = data.readline().strip()\n",
    "    result = list(all_genes.keys())\n",
    "    print(result)\n",
    "    return result"
   ]
  },
  {
   "cell_type": "code",
   "execution_count": null,
   "metadata": {},
   "outputs": [],
   "source": [
    "with open(\"../results/GENES_11_HUM.tsv\", mode = \"w\") as out:\n",
    "    gene_list_MF = genes_extractor(\"../results/hum_11_50_go_zer_ribo.txt\")\n",
    "    for i in gene_list_MF:\n",
    "        print(i, file = out)\n",
    "\n",
    "with open(\"../results/GENES_10_HUM.tsv\", mode = \"w\") as out:\n",
    "    gene_list_MF = genes_extractor(\"../results/hum_10_go.tsv\")\n",
    "    for i in gene_list_MF:\n",
    "        print(i, file = out)"
   ]
  },
  {
   "cell_type": "markdown",
   "metadata": {},
   "source": [
    "Script to find organisms with small 3'UTR length median values"
   ]
  },
  {
   "cell_type": "code",
   "execution_count": null,
   "metadata": {},
   "outputs": [],
   "source": [
    "dir_path = \"PATH TO FOLDER WITH SEPARATE RESULTS\"\n",
    "filenames = [f for f in listdir(dir_path) if isfile(join(dir_path, f))]\n",
    "\n",
    "result = []\n",
    "for i in filenames:\n",
    "    if i.endswith(\"tsv\"):\n",
    "        data =  pd.read_csv(dir_path+i, delimiter=\"\\t\", names = [\"Transcript_ID\", \"Codon\", \"Length\"], usecols = [1,2])\n",
    "        med = data.groupby([\"Codon\"]).median()[\"Length\"].tolist()\n",
    "        count = len(data.index)\n",
    "        try:\n",
    "            med_sum = med[0]+med[1]+med[2]\n",
    "            result.append((i, med[0], med[1], med[2],med_sum, count))\n",
    "        except IndexError:\n",
    "            pass\n",
    "result.sort(key=lambda x:x[4])"
   ]
  },
  {
   "cell_type": "markdown",
   "metadata": {},
   "source": [
    "Function to statistically test difference between median values via Mood's median test"
   ]
  },
  {
   "cell_type": "code",
   "execution_count": null,
   "metadata": {},
   "outputs": [],
   "source": [
    "def codon_medians (pandas_input):\n",
    "    uga = pandas_input[pandas_input[\"Codon\"] == \"TGA\"][\"Length\"].tolist()\n",
    "    uaa = pandas_input[pandas_input[\"Codon\"] == \"TAA\"][\"Length\"].tolist()\n",
    "    uag = pandas_input[pandas_input[\"Codon\"] == \"TAG\"][\"Length\"].tolist()   \n",
    "    \n",
    "    uaa_uga = scipy.stats.median_test(uaa, uga).pvalue\n",
    "    uaa_uag = scipy.stats.median_test(uaa, uag).pvalue\n",
    "    uag_uga = scipy.stats.median_test(uag, uga).pvalue\n",
    "\n",
    "    print(f\"UAA-UAG = {uaa_uag}\")\n",
    "    print(f\"UAA-UGA = {uaa_uga}\")\n",
    "    print(f\"UAG-UGA = {uag_uga}\")\n",
    "    print(fdrcorrection([uaa_uag, uaa_uga, uag_uga]))\n",
    "\n",
    "    return None"
   ]
  },
  {
   "cell_type": "code",
   "execution_count": null,
   "metadata": {},
   "outputs": [],
   "source": [
    "human_data = pd.read_csv(\"../data/RES_Homo_sapiens.GRCh38.107.utrs.tsv\", sep = \"\\t\", names = [\"Transcript_ID\", \"Codon\", \"Length\"])\n",
    "codon_medians(human_data)\n",
    "#The same procedure is for other organisms and total table (../data/Org_tables/TOTAL_{i}.zip) which previously had to be unzipped and merged"
   ]
  },
  {
   "cell_type": "code",
   "execution_count": null,
   "metadata": {},
   "outputs": [],
   "source": [
    "#All human data vs human housekeeping genes\n",
    "human_house = pd.read_csv(\"../data/human_house.tsv\", sep = \"\\t\")\n",
    "uga_house = human_house[human_house[\"Codon\"] == \"UGA\"][\"Length\"].tolist()\n",
    "uaa_house = human_house[human_house[\"Codon\"] == \"UAA\"][\"Length\"].tolist()\n",
    "uag_house = human_house[human_house[\"Codon\"] == \"UAG\"][\"Length\"].tolist() \n",
    "\n",
    "uga_human = human_data[human_data[\"Codon\"] == \"TGA\"][\"Length\"].tolist()\n",
    "uaa_human = human_data[human_data[\"Codon\"] == \"TAA\"][\"Length\"].tolist()\n",
    "uag_human = human_data[human_data[\"Codon\"] == \"TAG\"][\"Length\"].tolist()\n",
    "\n",
    "uaa_uaa = scipy.stats.median_test(uaa_human, uaa_house).pvalue\n",
    "uag_uag = scipy.stats.median_test(uag_human, uag_house).pvalue\n",
    "uga_uga = scipy.stats.median_test(uga_human, uga_house).pvalue\n",
    "\n",
    "print(f\"UAA = {uaa_uaa}\")\n",
    "print(f\"UGA = {uga_uga}\")\n",
    "print(f\"UAG = {uag_uag}\")\n",
    "print(fdrcorrection([uaa_uaa, uga_uga, uag_uag]))"
   ]
  },
  {
   "cell_type": "code",
   "execution_count": null,
   "metadata": {},
   "outputs": [],
   "source": [
    "rabbit_data = pd.read_csv(\"../data/RABORTH.tsv\", sep = \"\\t\")\n",
    "codon_medians(rabbit_data)"
   ]
  },
  {
   "cell_type": "code",
   "execution_count": null,
   "metadata": {},
   "outputs": [],
   "source": [
    "#Mood's median test for two groups of enrichment analysis\n",
    "hum_50 = pd.read_csv(\"../results/hum_50.tsv\", sep = \"\\t\")\n",
    "hum_10 = pd.read_csv(\"../results/hum_10.tsv\", sep = \"\\t\")\n",
    "\n",
    "print(\"11-50\")\n",
    "codon_medians(hum_50)"
   ]
  },
  {
   "cell_type": "code",
   "execution_count": null,
   "metadata": {},
   "outputs": [],
   "source": [
    "uga = hum_10[(hum_10[\"Codon\"] == \"UGA\") & (hum_10[\"Length\"]>0)][\"Length\"]\n",
    "uaa = hum_10[(hum_10[\"Codon\"] == \"UAA\") & (hum_10[\"Length\"]>0)][\"Length\"]\n",
    "uag = hum_10[(hum_10[\"Codon\"] == \"UAG\") & (hum_10[\"Length\"]>0)][\"Length\"]   \n",
    "\n",
    "uaa_uga = scipy.stats.median_test(uaa, uga).pvalue\n",
    "uaa_uag = scipy.stats.median_test(uaa, uag).pvalue\n",
    "uag_uga = scipy.stats.median_test(uag, uga).pvalue\n",
    "all_tog = scipy.stats.median_test(uag, uga,uaa).pvalue\n",
    "\n",
    "print(f\"UAA-UAG = {uaa_uag}\")\n",
    "print(f\"UAA-UGA = {uaa_uga}\")\n",
    "print(f\"UAG-UGA = {uag_uga}\")\n",
    "print(fdrcorrection([uaa_uag, uaa_uga, uag_uga]))"
   ]
  },
  {
   "cell_type": "code",
   "execution_count": null,
   "metadata": {},
   "outputs": [],
   "source": [
    "o_lycim = pd.read_csv(\"../data/RES_Ostreococcus_lucimarinus.ASM9206v1.54.utrs.tsv\", sep=\"\\t\", names = [\"Transcript_ID\", \"Codon\", \"Length\"])\n",
    "a_lyrat = pd.read_csv(\"../data/RES_Arabidopsis_lyrata.v.1.0.54.utrs.tsv\", sep=\"\\t\", names = [\"Transcript_ID\", \"Codon\", \"Length\"])\n",
    "d_willis = pd.read_csv(\"../data/RES_Drosophila_willistoni.dwil_caf1.54.utrs.tsv\", sep=\"\\t\", names = [\"Transcript_ID\", \"Codon\", \"Length\"])\n",
    "p_perni = pd.read_csv(\"../data/RES_Phlebotomus_perniciosus_gca918844115.pperniciosus_illum_n82538_165Mb.54.utrs.tsv\", sep=\"\\t\", names = [\"Transcript_ID\", \"Codon\", \"Length\"])\n",
    "\n",
    "print(\"o_lycim\")\n",
    "codon_medians(o_lycim)\n",
    "print(\"a_lyrat\")\n",
    "codon_medians(a_lyrat)\n",
    "print(\"d_willis\")\n",
    "codon_medians(d_willis)\n",
    "print(\"p_perni\")\n",
    "codon_medians(p_perni)\n"
   ]
  }
 ],
 "metadata": {
  "kernelspec": {
   "display_name": "base",
   "language": "python",
   "name": "python3"
  },
  "language_info": {
   "codemirror_mode": {
    "name": "ipython",
    "version": 3
   },
   "file_extension": ".py",
   "mimetype": "text/x-python",
   "name": "python",
   "nbconvert_exporter": "python",
   "pygments_lexer": "ipython3",
   "version": "3.10.11"
  }
 },
 "nbformat": 4,
 "nbformat_minor": 2
}
